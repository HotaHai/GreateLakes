{
  "nbformat": 4,
  "nbformat_minor": 0,
  "metadata": {
    "colab": {
      "name": "Visualisation_Histogram.ipynb",
      "provenance": []
    },
    "kernelspec": {
      "name": "python3",
      "display_name": "Python 3"
    }
  },
  "cells": [
    {
      "cell_type": "code",
      "metadata": {
        "id": "aA0HBa-6Oy7z",
        "colab_type": "code",
        "colab": {}
      },
      "source": [
        "%matplotlib inline"
      ],
      "execution_count": 0,
      "outputs": []
    },
    {
      "cell_type": "code",
      "metadata": {
        "id": "lKVK6cPiQ_dO",
        "colab_type": "code",
        "colab": {}
      },
      "source": [
        "import numpy as np\n",
        "import matplotlib.pyplot as plt"
      ],
      "execution_count": 0,
      "outputs": []
    },
    {
      "cell_type": "markdown",
      "metadata": {
        "id": "ZDWQq-b6RQ09",
        "colab_type": "text"
      },
      "source": [
        "Histogram will take the dataset as input\n",
        "Divides the dataset into evenly spaced intervals ( default - 10) \n",
        "Matches each value in the dataset with an interval\n",
        "counts the number of values in each interval\n"
      ]
    },
    {
      "cell_type": "markdown",
      "metadata": {
        "id": "AbT5qI7gVkJc",
        "colab_type": "text"
      },
      "source": [
        "let us plot the Histogram for normal distribution"
      ]
    },
    {
      "cell_type": "code",
      "metadata": {
        "id": "m9kvMe56Vpm6",
        "colab_type": "code",
        "outputId": "4b00d596-2fc7-4c4f-bae1-cd4b2e81db4a",
        "colab": {
          "base_uri": "https://localhost:8080/",
          "height": 265
        }
      },
      "source": [
        "data = np.random.randn(100)\n",
        "plt.hist(data);"
      ],
      "execution_count": 0,
      "outputs": [
        {
          "output_type": "display_data",
          "data": {
            "image/png": "[encoded data removed]",
            "text/plain": [
              "<Figure size 432x288 with 1 Axes>"
            ]
          },
          "metadata": {
            "tags": []
          }
        }
      ]
    },
    {
      "cell_type": "markdown",
      "metadata": {
        "id": "swVbIse1V5_F",
        "colab_type": "text"
      },
      "source": [
        "Let us plot for unifor distribution."
      ]
    },
    {
      "cell_type": "code",
      "metadata": {
        "id": "1kgN_0GqV_MD",
        "colab_type": "code",
        "outputId": "f039c5cc-e3d3-43b6-ecab-c12e912b193a",
        "colab": {
          "base_uri": "https://localhost:8080/",
          "height": 266
        }
      },
      "source": [
        "data = np.random.uniform(size=1000)\n",
        "plt.hist(data);"
      ],
      "execution_count": 0,
      "outputs": [
        {
          "output_type": "display_data",
          "data": {
            "image/png": "[encoded data removed]",
            "text/plain": [
              "<Figure size 432x288 with 1 Axes>"
            ]
          },
          "metadata": {
            "tags": []
          }
        }
      ]
    },
    {
      "cell_type": "markdown",
      "metadata": {
        "id": "pLU1Sq7hYPnf",
        "colab_type": "text"
      },
      "source": [
        "2D Histogram \n",
        "will take 2 dataset as input and approach is top down, it means u will nto see the bars as such but u wil see the topview of the same.\n",
        "darker colore shows high intensity or high value of the datasets."
      ]
    },
    {
      "cell_type": "code",
      "metadata": {
        "id": "4iBRMIFCXMT5",
        "colab_type": "code",
        "outputId": "ad319912-c953-44d2-f742-691157042f74",
        "colab": {
          "base_uri": "https://localhost:8080/",
          "height": 265
        }
      },
      "source": [
        "plt.hist2d(np.random.randn(10000), np.random.randn(10000))"
      ],
      "execution_count": 0,
      "outputs": [
        {
          "output_type": "display_data",
          "data": {
            "image/png": "[encoded data removed]",
            "text/plain": [
              "<Figure size 432x288 with 1 Axes>"
            ]
          },
          "metadata": {
            "tags": []
          }
        }
      ]
    },
    {
      "cell_type": "markdown",
      "metadata": {
        "id": "DEM1FKufaNDW",
        "colab_type": "text"
      },
      "source": [
        "BAR char \n",
        "Bar has two iterables ( x , heights- magnitude of the values in the dataset)\n",
        "BAR has two things, 1. vertical and 2. Hotrizontal."
      ]
    },
    {
      "cell_type": "code",
      "metadata": {
        "id": "JgAEvMWwaZMM",
        "colab_type": "code",
        "outputId": "3b116a49-7d34-4278-8b22-421998515722",
        "colab": {
          "base_uri": "https://localhost:8080/",
          "height": 265
        }
      },
      "source": [
        "data = np.random.randint(0,20,10)\n",
        "plt.bar(np.arange(len(data)), data);"
      ],
      "execution_count": 0,
      "outputs": [
        {
          "output_type": "display_data",
          "data": {
            "image/png": "[encoded data removed]",
            "text/plain": [
              "<Figure size 432x288 with 1 Axes>"
            ]
          },
          "metadata": {
            "tags": []
          }
        }
      ]
    },
    {
      "cell_type": "code",
      "metadata": {
        "id": "CzHW9TXkaf6C",
        "colab_type": "code",
        "outputId": "9014c38e-f50b-4499-9380-86fd0ce42771",
        "colab": {
          "base_uri": "https://localhost:8080/",
          "height": 282
        }
      },
      "source": [
        "data = np.random.randint(0,20,10)\n",
        "plt.bar(np.arange(len(data)), data);\n",
        "plt.plot(data, c='y')"
      ],
      "execution_count": 0,
      "outputs": [
        {
          "output_type": "execute_result",
          "data": {
            "text/plain": [
              "[<matplotlib.lines.Line2D at 0x7fef1ad7a710>]"
            ]
          },
          "metadata": {
            "tags": []
          },
          "execution_count": 16
        },
        {
          "output_type": "display_data",
          "data": {
            "image/png": "[encoded data removed]",
            "text/plain": [
              "<Figure size 432x288 with 1 Axes>"
            ]
          },
          "metadata": {
            "tags": []
          }
        }
      ]
    },
    {
      "cell_type": "code",
      "metadata": {
        "id": "dHcy1CToa380",
        "colab_type": "code",
        "outputId": "8288499f-c1c9-4354-d491-35bd3146d7b9",
        "colab": {
          "base_uri": "https://localhost:8080/",
          "height": 265
        }
      },
      "source": [
        "data = np.random.randint(0,20,10)\n",
        "plt.barh(np.arange(len(data)), data);\n",
        "plt.plot(data, c='y');"
      ],
      "execution_count": 0,
      "outputs": [
        {
          "output_type": "display_data",
          "data": {
            "image/png": "[encoded data removed]",
            "text/plain": [
              "<Figure size 432x288 with 1 Axes>"
            ]
          },
          "metadata": {
            "tags": []
          }
        }
      ]
    },
    {
      "cell_type": "markdown",
      "metadata": {
        "id": "-hst0f8Du-MY",
        "colab_type": "text"
      },
      "source": [
        "how we are going to change the line chart to support the data."
      ]
    },
    {
      "cell_type": "markdown",
      "metadata": {
        "id": "e-kgMajTvFya",
        "colab_type": "text"
      },
      "source": [
        "We will discuss now about the stacked chart.. where it will be usefull?"
      ]
    },
    {
      "cell_type": "markdown",
      "metadata": {
        "id": "0IyVd6qaQTCQ",
        "colab_type": "text"
      },
      "source": [
        "Will Discuss mean, median and mode"
      ]
    },
    {
      "cell_type": "code",
      "metadata": {
        "id": "2-bkj-WmQcPS",
        "colab_type": "code",
        "outputId": "fe9155c0-3395-4ff3-ed40-99686d7630c2",
        "colab": {
          "base_uri": "https://localhost:8080/",
          "height": 350
        }
      },
      "source": [
        "hista = np.random.normal(100,20,size=1000)\n",
        "plt.hist(hista)\n",
        "#waht is the first array list and second array list denotes."
      ],
      "execution_count": 0,
      "outputs": [
        {
          "output_type": "execute_result",
          "data": {
            "text/plain": [
              "(array([  3.,  12.,  39., 152., 217., 249., 196.,  94.,  28.,  10.]),\n",
              " array([ 31.2215311 ,  44.22497568,  57.22842027,  70.23186485,\n",
              "         83.23530943,  96.23875402, 109.2421986 , 122.24564319,\n",
              "        135.24908777, 148.25253236, 161.25597694]),\n",
              " <a list of 10 Patch objects>)"
            ]
          },
          "metadata": {
            "tags": []
          },
          "execution_count": 19
        },
        {
          "output_type": "display_data",
          "data": {
            "image/png": "[encoded data removed]",
            "text/plain": [
              "<Figure size 432x288 with 1 Axes>"
            ]
          },
          "metadata": {
            "tags": []
          }
        }
      ]
    },
    {
      "cell_type": "code",
      "metadata": {
        "id": "iLIQ_QycRReB",
        "colab_type": "code",
        "outputId": "a8a84246-39e6-47a5-8080-79d7cc5e1f5e",
        "colab": {
          "base_uri": "https://localhost:8080/",
          "height": 34
        }
      },
      "source": [
        "np.mean(hista)"
      ],
      "execution_count": 0,
      "outputs": [
        {
          "output_type": "execute_result",
          "data": {
            "text/plain": [
              "99.79227115915675"
            ]
          },
          "metadata": {
            "tags": []
          },
          "execution_count": 8
        }
      ]
    },
    {
      "cell_type": "code",
      "metadata": {
        "id": "6k3qoV2JRoJp",
        "colab_type": "code",
        "outputId": "ba4a2dcc-d300-46a6-99d6-a86d5c9b251b",
        "colab": {
          "base_uri": "https://localhost:8080/",
          "height": 34
        }
      },
      "source": [
        "np.median(hista)"
      ],
      "execution_count": 0,
      "outputs": [
        {
          "output_type": "execute_result",
          "data": {
            "text/plain": [
              "99.8516487962637"
            ]
          },
          "metadata": {
            "tags": []
          },
          "execution_count": 9
        }
      ]
    },
    {
      "cell_type": "code",
      "metadata": {
        "id": "MibGpIsJRqdm",
        "colab_type": "code",
        "colab": {}
      },
      "source": [
        "#now we will add some noise to data to understand how mean and median works\n",
        "hista=np.append(hista,30000)"
      ],
      "execution_count": 0,
      "outputs": []
    },
    {
      "cell_type": "code",
      "metadata": {
        "id": "pCBBRbSMR3k1",
        "colab_type": "code",
        "outputId": "46c50638-b6ff-475f-d1ff-66a64eca97db",
        "colab": {
          "base_uri": "https://localhost:8080/",
          "height": 34
        }
      },
      "source": [
        "np.mean(hista)"
      ],
      "execution_count": 0,
      "outputs": [
        {
          "output_type": "execute_result",
          "data": {
            "text/plain": [
              "129.66260855060614"
            ]
          },
          "metadata": {
            "tags": []
          },
          "execution_count": 12
        }
      ]
    },
    {
      "cell_type": "code",
      "metadata": {
        "id": "OC-PFJgCR9lB",
        "colab_type": "code",
        "outputId": "6842132c-d5ca-4dc9-b648-4995bc408e8d",
        "colab": {
          "base_uri": "https://localhost:8080/",
          "height": 34
        }
      },
      "source": [
        "np.median(hista)"
      ],
      "execution_count": 0,
      "outputs": [
        {
          "output_type": "execute_result",
          "data": {
            "text/plain": [
              "99.89416423282943"
            ]
          },
          "metadata": {
            "tags": []
          },
          "execution_count": 13
        }
      ]
    },
    {
      "cell_type": "code",
      "metadata": {
        "id": "VHcZFgJtR_Md",
        "colab_type": "code",
        "outputId": "b8e0a9ef-c111-4107-fee0-469aca07b660",
        "colab": {
          "base_uri": "https://localhost:8080/",
          "height": 350
        }
      },
      "source": [
        "plt.hist(hista)"
      ],
      "execution_count": 0,
      "outputs": [
        {
          "output_type": "execute_result",
          "data": {
            "text/plain": [
              "(array([  3.,  12.,  39., 152., 217., 249., 196.,  94.,  28.,  10.]),\n",
              " array([ 31.2215311 ,  44.22497568,  57.22842027,  70.23186485,\n",
              "         83.23530943,  96.23875402, 109.2421986 , 122.24564319,\n",
              "        135.24908777, 148.25253236, 161.25597694]),\n",
              " <a list of 10 Patch objects>)"
            ]
          },
          "metadata": {
            "tags": []
          },
          "execution_count": 20
        },
        {
          "output_type": "display_data",
          "data": {
            "image/png": "[encoded data removed]",
            "text/plain": [
              "<Figure size 432x288 with 1 Axes>"
            ]
          },
          "metadata": {
            "tags": []
          }
        }
      ]
    },
    {
      "cell_type": "code",
      "metadata": {
        "id": "1_nHhkemSHiw",
        "colab_type": "code",
        "colab": {}
      },
      "source": [
        ""
      ],
      "execution_count": 0,
      "outputs": []
    }
  ]
}