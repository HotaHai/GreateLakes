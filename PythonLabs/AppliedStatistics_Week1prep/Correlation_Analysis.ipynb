{
  "nbformat": 4,
  "nbformat_minor": 0,
  "metadata": {
    "colab": {
      "name": "Correlation_Analysis.ipynb",
      "provenance": []
    },
    "kernelspec": {
      "name": "python3",
      "display_name": "Python 3"
    }
  },
  "cells": [
    {
      "cell_type": "code",
      "metadata": {
        "id": "KAnY3qGB8P0J",
        "colab_type": "code",
        "colab": {}
      },
      "source": [
        "import numpy as np"
      ],
      "execution_count": 0,
      "outputs": []
    },
    {
      "cell_type": "code",
      "metadata": {
        "id": "iOWLEYDK-Ob2",
        "colab_type": "code",
        "colab": {}
      },
      "source": [
        "tempx = [66,72,77,84,83,71,65,70]\n",
        "Ice_sales_y = [8,11,15,20,21,11,8,10]"
      ],
      "execution_count": 0,
      "outputs": []
    },
    {
      "cell_type": "code",
      "metadata": {
        "id": "yb-epLpJ-bQV",
        "colab_type": "code",
        "outputId": "e88c3dbe-6d81-47fe-fa5a-f733cbf62465",
        "colab": {
          "base_uri": "https://localhost:8080/",
          "height": 51
        }
      },
      "source": [
        "cov_matrix = np.cov(tempx,Ice_sales_y)\n",
        "print(cov_matrix)"
      ],
      "execution_count": 0,
      "outputs": [
        {
          "output_type": "stream",
          "text": [
            "[[51.71428571 36.42857143]\n",
            " [36.42857143 26.28571429]]\n"
          ],
          "name": "stdout"
        }
      ]
    },
    {
      "cell_type": "code",
      "metadata": {
        "id": "8zcWmf0i-zF_",
        "colab_type": "code",
        "outputId": "12798f77-aa6b-436d-e7f7-f83f8531b141",
        "colab": {
          "base_uri": "https://localhost:8080/",
          "height": 34
        }
      },
      "source": [
        "print(cov_matrix[0,1])"
      ],
      "execution_count": 0,
      "outputs": [
        {
          "output_type": "stream",
          "text": [
            "36.42857142857142\n"
          ],
          "name": "stdout"
        }
      ]
    },
    {
      "cell_type": "code",
      "metadata": {
        "id": "mtXaZm-uBafE",
        "colab_type": "code",
        "outputId": "79fbd59e-c1d5-483f-df00-b4e2fa4362fd",
        "colab": {
          "base_uri": "https://localhost:8080/",
          "height": 34
        }
      },
      "source": [
        "corn_matrix = np.corrcoef(cov_matrix)\n",
        "print(corn_matrix[0,1])"
      ],
      "execution_count": 0,
      "outputs": [
        {
          "output_type": "stream",
          "text": [
            "1.0\n"
          ],
          "name": "stdout"
        }
      ]
    },
    {
      "cell_type": "code",
      "metadata": {
        "id": "5Sz0hu8l_Aql",
        "colab_type": "code",
        "outputId": "8d54f2ff-022e-44c0-c25a-08634ee28893",
        "colab": {
          "base_uri": "https://localhost:8080/",
          "height": 51
        }
      },
      "source": [
        "print(cov_matrix)"
      ],
      "execution_count": 0,
      "outputs": [
        {
          "output_type": "stream",
          "text": [
            "[[51.71428571 36.42857143]\n",
            " [36.42857143 26.28571429]]\n"
          ],
          "name": "stdout"
        }
      ]
    },
    {
      "cell_type": "code",
      "metadata": {
        "id": "HzoI8cfzARCk",
        "colab_type": "code",
        "outputId": "fd693b2c-bdbe-4331-bc80-2c42de05fc11",
        "colab": {
          "base_uri": "https://localhost:8080/",
          "height": 51
        }
      },
      "source": [
        "x = [0,1,2]\n",
        "y = [2,1,0]\n",
        "cov_matrix = np.cov(x,y)\n",
        "print(\"Correlation\")\n",
        "cor_matrix = np.corrcoef(cov_matrix)\n",
        "print(cor_matrix[0,1])"
      ],
      "execution_count": 0,
      "outputs": [
        {
          "output_type": "stream",
          "text": [
            "Correlation\n",
            "-0.9999999999999999\n"
          ],
          "name": "stdout"
        }
      ]
    },
    {
      "cell_type": "code",
      "metadata": {
        "id": "l5M2zE4ABCHZ",
        "colab_type": "code",
        "colab": {}
      },
      "source": [
        ""
      ],
      "execution_count": 0,
      "outputs": []
    }
  ]
}