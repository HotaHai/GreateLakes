{
  "nbformat": 4,
  "nbformat_minor": 0,
  "metadata": {
    "colab": {
      "name": "ActionItems_discussion.ipynb",
      "provenance": []
    },
    "kernelspec": {
      "name": "python3",
      "display_name": "Python 3"
    }
  },
  "cells": [
    {
      "cell_type": "code",
      "metadata": {
        "id": "Pj3Z6D13HOXQ",
        "colab_type": "code",
        "outputId": "3922322f-1614-4550-ccdc-2779bd130a8b",
        "colab": {
          "base_uri": "https://localhost:8080/",
          "height": 51
        }
      },
      "source": [
        "class Student:\n",
        "  pass\n",
        "\n",
        "varma = Student()\n",
        "varma.first_name = \"Venkat\"\n",
        "varma.last_name = \"Varma\"\n",
        "\n",
        "paurnima = Student()\n",
        "varma.first_name = \"Paurima\"\n",
        "varma.last_name = \"Chavan\"\n",
        "\n",
        "print(varma)\n",
        "print(paurnima)\n"
      ],
      "execution_count": 0,
      "outputs": [
        {
          "output_type": "stream",
          "text": [
            "<__main__.Student object at 0x7f14476681d0>\n",
            "<__main__.Student object at 0x7f1447668198>\n"
          ],
          "name": "stdout"
        }
      ]
    },
    {
      "cell_type": "code",
      "metadata": {
        "id": "IiNvhy3yLSd9",
        "colab_type": "code",
        "outputId": "cbc35de9-3fa4-4264-f390-46b8b811e273",
        "colab": {
          "base_uri": "https://localhost:8080/",
          "height": 68
        }
      },
      "source": [
        "class Student:\n",
        "  \n",
        "  def __init__(self, first, last, courses=None):\n",
        "    self.first_name = first\n",
        "    self.last_name =  last\n",
        "    self.courses = courses\n",
        "    if courses == None:\n",
        "      self.courses = []\n",
        "    else: \n",
        "      self.courses = courses\n",
        "\n",
        "  def __str__(self):\n",
        "    return f\"FirstName: {self.first_name} \\n LastName: {self.last_name} \\n Courses : {self.courses}\"\n",
        "\n",
        "\n",
        "course_1 = [\"python\" , \"descriptive statistics\"]\n",
        "course_2 = [\"inferential statistics\", \"applided Statistics\"]\n",
        "\n",
        "paurnima = Student(\"paurnima\", \"Chavan\", course_1)\n",
        "varma = Student(\"Venkat\", \"varma\",course_2)\n",
        "sharma = Student(\"Sachin\", \"Sharma\")\n",
        "#print(varma.first_name)\n",
        "#print(paurnima.last_name, paurnima.courses)\n",
        "print(varma)\n",
        "#__REPR__\n"
      ],
      "execution_count": 0,
      "outputs": [
        {
          "output_type": "stream",
          "text": [
            "FirstName: Venkat \n",
            " LastName: varma \n",
            " Courses : ['inferential statistics', 'applided Statistics']\n"
          ],
          "name": "stdout"
        }
      ]
    },
    {
      "cell_type": "code",
      "metadata": {
        "id": "1WKxr7tCM5-f",
        "colab_type": "code",
        "outputId": "a6c27ee5-8f68-43c7-8d58-326224f7e6c5",
        "colab": {
          "base_uri": "https://localhost:8080/",
          "height": 68
        }
      },
      "source": [
        "class Student:\n",
        "  \n",
        "  def __init__(self, first, last, courses=None):\n",
        "    self.first_name = first\n",
        "    self.last_name =  last\n",
        "    self.courses = courses\n",
        "    if courses == None:\n",
        "      self.courses = []\n",
        "    else: \n",
        "      self.courses = courses\n",
        "\n",
        "  def __str__(self):\n",
        "    return f\"FirstName: {self.first_name} \\n LastName: {self.last_name} \\n Courses : {','.join(self.courses)}\"\n",
        "\n",
        "\n",
        "course_1 = [\"python\" , \"descriptive statistics\"]\n",
        "course_2 = [\"inferential statistics\", \"applided Statistics\"]\n",
        "\n",
        "paurnima = Student(\"paurnima\", \"Chavan\", course_1)\n",
        "varma = Student(\"Venkat\", \"varma\",course_2)\n",
        "sharma = Student(\"Sachin\", \"Sharma\")\n",
        "#print(varma.first_name)\n",
        "#print(paurnima.last_name, paurnima.courses)\n",
        "print(varma)"
      ],
      "execution_count": 0,
      "outputs": [
        {
          "output_type": "stream",
          "text": [
            "FirstName: Venkat \n",
            " LastName: varma \n",
            " Courses : inferential statistics,applided Statistics\n"
          ],
          "name": "stdout"
        }
      ]
    },
    {
      "cell_type": "code",
      "metadata": {
        "id": "E8-LAlPpPyvY",
        "colab_type": "code",
        "outputId": "47f6f6cb-005f-48fc-acc3-8d885da2d0a3",
        "colab": {
          "base_uri": "https://localhost:8080/",
          "height": 68
        }
      },
      "source": [
        "class Student:\n",
        "  \n",
        "  def __init__(self, first, last, courses=None):\n",
        "    self.first_name = first\n",
        "    self.last_name =  last\n",
        "    self.courses = courses\n",
        "    if courses == None:\n",
        "      self.courses = []\n",
        "    else: \n",
        "      self.courses = courses\n",
        "\n",
        "  def __str__(self):\n",
        "    return f\"FirstName: {self.first_name} \\n LastName: {self.last_name} \\n Courses : {','.join(map(str.capitalize,self.courses))}\"\n",
        "\n",
        "\n",
        "course_1 = [\"python\" , \"descriptive statistics\"]\n",
        "course_2 = [\"inferential statistics\", \"applided Statistics\"]\n",
        "\n",
        "paurnima = Student(\"paurnima\", \"Chavan\", course_1)\n",
        "varma = Student(\"Venkat\", \"varma\",course_2)\n",
        "sharma = Student(\"Sachin\", \"Sharma\")\n",
        "#print(varma.first_name)\n",
        "#print(paurnima.last_name, paurnima.courses)\n",
        "print(varma)"
      ],
      "execution_count": 0,
      "outputs": [
        {
          "output_type": "stream",
          "text": [
            "FirstName: Venkat \n",
            " LastName: varma \n",
            " Courses : Inferential statistics,Applided statistics\n"
          ],
          "name": "stdout"
        }
      ]
    },
    {
      "cell_type": "code",
      "metadata": {
        "id": "PLJAjZU7QSQV",
        "colab_type": "code",
        "outputId": "7ccf8ccf-42d8-4389-a6af-b6e5ef040af3",
        "colab": {
          "base_uri": "https://localhost:8080/",
          "height": 561
        }
      },
      "source": [
        "capitalizer = lambda x: x.upper()\n",
        "\n",
        "class Student:\n",
        "  \n",
        "  def __init__(self, first, last, courses=None):\n",
        "    self.first_name = first\n",
        "    self.last_name =  last\n",
        "    self.courses = courses\n",
        "    if courses == None:\n",
        "      self.courses = []\n",
        "    else: \n",
        "      self.courses = courses\n",
        "\n",
        "  def __str__(self):\n",
        "    return f\"FirstName: {self.first_name} \\n LastName: {self.last_name} \\n Courses : {','.join(map(str.capitalize,self.courses))}\"\n",
        "\n",
        "\n",
        "course_1 = [\"python\" , \"descriptive statistics\"]\n",
        "course_2 = [\"inferential statistics\", \"applided Statistics\"]\n",
        "\n",
        "paurnima = Student(\"paurnima\", \"Chavan\", course_1)\n",
        "varma = Student(\"Venkat\", \"varma\",course_2)\n",
        "sharma = Student(\"Sachin\", \"Sharma\")\n",
        "#print(varma.first_name)\n",
        "#print(paurnima.last_name, paurnima.courses)\n",
        "# how to define own length __len__\n",
        "print(varma)\n",
        "\n",
        "varma."
      ],
      "execution_count": 0,
      "outputs": [
        {
          "output_type": "stream",
          "text": [
            "FirstName: Venkat \n",
            " LastName: varma \n",
            " Courses : INFERENTIAL STATISTICS,APPLIDED STATISTICS\n"
          ],
          "name": "stdout"
        },
        {
          "output_type": "execute_result",
          "data": {
            "text/plain": [
              "['__class__',\n",
              " '__delattr__',\n",
              " '__dict__',\n",
              " '__dir__',\n",
              " '__doc__',\n",
              " '__eq__',\n",
              " '__format__',\n",
              " '__ge__',\n",
              " '__getattribute__',\n",
              " '__gt__',\n",
              " '__hash__',\n",
              " '__init__',\n",
              " '__init_subclass__',\n",
              " '__le__',\n",
              " '__lt__',\n",
              " '__module__',\n",
              " '__ne__',\n",
              " '__new__',\n",
              " '__reduce__',\n",
              " '__reduce_ex__',\n",
              " '__repr__',\n",
              " '__setattr__',\n",
              " '__sizeof__',\n",
              " '__str__',\n",
              " '__subclasshook__',\n",
              " '__weakref__',\n",
              " 'courses',\n",
              " 'first_name',\n",
              " 'last_name']"
            ]
          },
          "metadata": {
            "tags": []
          },
          "execution_count": 20
        }
      ]
    },
    {
      "cell_type": "code",
      "metadata": {
        "id": "QcLgKoDBQprS",
        "colab_type": "code",
        "colab": {}
      },
      "source": [
        ""
      ],
      "execution_count": 0,
      "outputs": []
    }
  ]
}